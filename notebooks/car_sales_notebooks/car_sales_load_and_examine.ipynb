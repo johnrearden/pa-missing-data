{
 "cells": [
  {
   "cell_type": "code",
   "execution_count": 3,
   "metadata": {},
   "outputs": [],
   "source": [
    "import pandas as pd\n",
    "import numpy as np"
   ]
  },
  {
   "cell_type": "markdown",
   "metadata": {},
   "source": [
    "#### Load the dataset"
   ]
  },
  {
   "cell_type": "code",
   "execution_count": null,
   "metadata": {},
   "outputs": [],
   "source": [
    "df = pd.read_csv('../../inputs/datasets/raw/car_prices.csv')\n",
    "df_sample = df.sample(n=2000, random_state=111)\n",
    "df_sample.shape\n",
    "df_sample.to_csv('../../inputs/datasets/raw/car_prices_sample.csv')"
   ]
  },
  {
   "cell_type": "markdown",
   "metadata": {},
   "source": [
    "#### Check column datatypes"
   ]
  },
  {
   "cell_type": "code",
   "execution_count": 4,
   "metadata": {},
   "outputs": [
    {
     "data": {
      "text/plain": [
       "(2000, 17)"
      ]
     },
     "execution_count": 4,
     "metadata": {},
     "output_type": "execute_result"
    }
   ],
   "source": [
    "df = pd.read_csv('../../inputs/datasets/raw/car_prices_sample.csv')\n",
    "df.shape"
   ]
  },
  {
   "cell_type": "markdown",
   "metadata": {},
   "source": [
    "#### Examine the data types"
   ]
  },
  {
   "cell_type": "code",
   "execution_count": 29,
   "metadata": {},
   "outputs": [
    {
     "data": {
      "text/plain": [
       "Unnamed: 0        int64\n",
       "year              int64\n",
       "make             object\n",
       "model            object\n",
       "trim             object\n",
       "body             object\n",
       "transmission     object\n",
       "vin              object\n",
       "state            object\n",
       "condition       float64\n",
       "odometer        float64\n",
       "color            object\n",
       "interior         object\n",
       "seller           object\n",
       "mmr             float64\n",
       "sellingprice    float64\n",
       "saledate         object\n",
       "dtype: object"
      ]
     },
     "execution_count": 29,
     "metadata": {},
     "output_type": "execute_result"
    }
   ],
   "source": [
    "df.dtypes"
   ]
  },
  {
   "cell_type": "code",
   "execution_count": 30,
   "metadata": {},
   "outputs": [
    {
     "data": {
      "text/plain": [
       "array(['Ford', 'Scion', 'Chevrolet', 'Jeep', 'Buick', 'Toyota', 'Nissan',\n",
       "       'Kia', 'Volkswagen', 'Honda', 'Lexus', 'Mazda', 'land rover',\n",
       "       'Dodge', 'Infiniti', 'BMW', 'Hyundai', 'Lincoln', 'smart',\n",
       "       'Chrysler', nan, 'Acura', 'Mercedes-Benz', 'Cadillac', 'Suzuki',\n",
       "       'Pontiac', 'Audi', 'Volvo', 'GMC', 'Subaru', 'Jaguar', 'Ram',\n",
       "       'Mercury', 'chrysler', 'Mitsubishi', 'Land Rover', 'HUMMER',\n",
       "       'cadillac', 'Porsche', 'Isuzu', 'lexus', 'Bentley', 'Saturn',\n",
       "       'MINI', 'FIAT', 'Fisker', 'dodge', 'Aston Martin', 'ford', 'jeep'],\n",
       "      dtype=object)"
      ]
     },
     "execution_count": 30,
     "metadata": {},
     "output_type": "execute_result"
    }
   ],
   "source": [
    "df['make'].unique()"
   ]
  },
  {
   "cell_type": "markdown",
   "metadata": {},
   "source": [
    "What's nan doing in here! Let's replace it with 'unknown'"
   ]
  },
  {
   "cell_type": "code",
   "execution_count": 42,
   "metadata": {},
   "outputs": [
    {
     "name": "stdout",
     "output_type": "stream",
     "text": [
      "Unique values for make : 50\n"
     ]
    },
    {
     "data": {
      "text/plain": [
       "array(['Ford', 'Scion', 'Chevrolet', 'Jeep', 'Buick', 'Toyota', 'Nissan',\n",
       "       'Kia', 'Volkswagen', 'Honda', 'Lexus', 'Mazda', 'land rover',\n",
       "       'Dodge', 'Infiniti', 'BMW', 'Hyundai', 'Lincoln', 'smart',\n",
       "       'Chrysler', 'Unknown', 'Acura', 'Mercedes-Benz', 'Cadillac',\n",
       "       'Suzuki', 'Pontiac', 'Audi', 'Volvo', 'GMC', 'Subaru', 'Jaguar',\n",
       "       'Ram', 'Mercury', 'chrysler', 'Mitsubishi', 'Land Rover', 'HUMMER',\n",
       "       'cadillac', 'Porsche', 'Isuzu', 'lexus', 'Bentley', 'Saturn',\n",
       "       'MINI', 'FIAT', 'Fisker', 'dodge', 'Aston Martin', 'ford', 'jeep'],\n",
       "      dtype=object)"
      ]
     },
     "execution_count": 42,
     "metadata": {},
     "output_type": "execute_result"
    }
   ],
   "source": [
    "df['make'] = df['make'].replace(to_replace={np.nan: 'Unknown'})\n",
    "print(f'Unique values for make : {df['make'].unique().shape[0]}')\n",
    "df['make'].unique()"
   ]
  },
  {
   "cell_type": "markdown",
   "metadata": {},
   "source": [
    "#### Looking at the remaining values, we need to remove case-insensitive duplicates too. Let's convert all values to lower-case"
   ]
  },
  {
   "cell_type": "code",
   "execution_count": null,
   "metadata": {},
   "outputs": [
    {
     "name": "stdout",
     "output_type": "stream",
     "text": [
      "Unique values for make : 43\n"
     ]
    },
    {
     "data": {
      "text/plain": [
       "array(['acura', 'aston martin', 'audi', 'bentley', 'bmw', 'buick',\n",
       "       'cadillac', 'chevrolet', 'chrysler', 'dodge', 'fiat', 'fisker',\n",
       "       'ford', 'gmc', 'honda', 'hummer', 'hyundai', 'infiniti', 'isuzu',\n",
       "       'jaguar', 'jeep', 'kia', 'land rover', 'lexus', 'lincoln', 'mazda',\n",
       "       'mercedes-benz', 'mercury', 'mini', 'mitsubishi', 'nissan',\n",
       "       'pontiac', 'porsche', 'ram', 'saturn', 'scion', 'smart', 'subaru',\n",
       "       'suzuki', 'toyota', 'unknown', 'volkswagen', 'volvo'], dtype=object)"
      ]
     },
     "execution_count": 47,
     "metadata": {},
     "output_type": "execute_result"
    }
   ],
   "source": [
    "df['make'] = df['make'].apply(lambda x: x.lower())\n",
    "print(f'Unique values for make : {df['make'].unique().shape[0]}')\n",
    "np.sort(df['make'].unique()) # Sort to check for near duplicates "
   ]
  },
  {
   "cell_type": "markdown",
   "metadata": {},
   "source": [
    "# Examine the 'model' column"
   ]
  },
  {
   "cell_type": "code",
   "execution_count": 19,
   "metadata": {},
   "outputs": [
    {
     "data": {
      "text/plain": [
       "342"
      ]
     },
     "execution_count": 19,
     "metadata": {},
     "output_type": "execute_result"
    }
   ],
   "source": [
    "df['model'].nunique()\n"
   ]
  },
  {
   "cell_type": "markdown",
   "metadata": {},
   "source": [
    "The large number of unique values for 'model' will pose a problem for encoding."
   ]
  },
  {
   "cell_type": "markdown",
   "metadata": {},
   "source": [
    "# Examine the 'body' column"
   ]
  },
  {
   "cell_type": "markdown",
   "metadata": {},
   "source": []
  },
  {
   "cell_type": "code",
   "execution_count": 22,
   "metadata": {},
   "outputs": [
    {
     "data": {
      "text/plain": [
       "array(['SUV', 'hatchback', 'Sedan', 'sedan', 'Hatchback', 'Wagon', nan,\n",
       "       'minivan', 'Coupe', 'Crew Cab', 'wagon', 'supercrew',\n",
       "       'Convertible', 'suv', 'Minivan', 'Extended Cab', 'G Sedan',\n",
       "       'Quad Cab', 'SuperCrew', 'Regular Cab', 'Double Cab', 'Van',\n",
       "       'convertible', 'crewmax cab', 'G Coupe', 'E-Series Van',\n",
       "       'supercab', 'SuperCab', 'coupe', 'CrewMax Cab', 'crew cab',\n",
       "       'extended cab', 'quad cab', 'e-series van', 'g sedan', 'g coupe',\n",
       "       'King Cab', 'van', 'regular cab', 'CTS Coupe'], dtype=object)"
      ]
     },
     "execution_count": 22,
     "metadata": {},
     "output_type": "execute_result"
    }
   ],
   "source": [
    "df['body'].unique()"
   ]
  },
  {
   "cell_type": "markdown",
   "metadata": {},
   "source": [
    "Again, there are duplicates here, with different cases, so let's eliminate them first"
   ]
  },
  {
   "cell_type": "code",
   "execution_count": 24,
   "metadata": {},
   "outputs": [
    {
     "data": {
      "text/plain": [
       "array(['suv', 'hatchback', 'sedan', 'wagon', 'unknown', 'minivan',\n",
       "       'coupe', 'crew cab', 'supercrew', 'convertible', 'extended cab',\n",
       "       'g sedan', 'quad cab', 'regular cab', 'double cab', 'van',\n",
       "       'crewmax cab', 'g coupe', 'e-series van', 'supercab', 'king cab',\n",
       "       'cts coupe'], dtype=object)"
      ]
     },
     "execution_count": 24,
     "metadata": {},
     "output_type": "execute_result"
    }
   ],
   "source": [
    "df['body'] = df['body'].replace(to_replace={np.nan: 'Unknown'})\n",
    "df['body'] = df['body'].apply(lambda x: x.lower())\n",
    "df['body'].unique()"
   ]
  }
 ],
 "metadata": {
  "kernelspec": {
   "display_name": "venv",
   "language": "python",
   "name": "python3"
  },
  "language_info": {
   "codemirror_mode": {
    "name": "ipython",
    "version": 3
   },
   "file_extension": ".py",
   "mimetype": "text/x-python",
   "name": "python",
   "nbconvert_exporter": "python",
   "pygments_lexer": "ipython3",
   "version": "3.12.3"
  }
 },
 "nbformat": 4,
 "nbformat_minor": 2
}
