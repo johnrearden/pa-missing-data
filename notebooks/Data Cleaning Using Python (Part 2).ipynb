{
 "cells": [
  {
   "cell_type": "markdown",
   "id": "d5f09f35",
   "metadata": {},
   "source": [
    "# Data Cleaning with Python (Part 2)"
   ]
  },
  {
   "cell_type": "markdown",
   "id": "f8699b89",
   "metadata": {},
   "source": [
    "In this topic, we’ll focus on two essential data cleaning tasks:\n",
    "1. **Handling Duplicates** – Identifying and removing duplicate rows to avoid skewing analysis.\n",
    "2. **Detecting and Handling Outliers** – Identifying outliers that may distort data insights and deciding how to handle them.\n",
    "\n",
    "**Note:** After reading the instructions, run the cell to see the results.\n"
   ]
  },
  {
   "cell_type": "markdown",
   "id": "05a97c83",
   "metadata": {},
   "source": [
    "### Import Libraries and Load Data\n",
    "\n",
    "First, we need to import the necessary libraries and load our dataset that was cleaned in Part 1. Pandas is the primary library we’ll use to manipulate our data.\n"
   ]
  },
  {
   "cell_type": "code",
   "execution_count": 76,
   "id": "1ed8c56d",
   "metadata": {},
   "outputs": [
    {
     "data": {
      "text/html": [
       "<div>\n",
       "<style scoped>\n",
       "    .dataframe tbody tr th:only-of-type {\n",
       "        vertical-align: middle;\n",
       "    }\n",
       "\n",
       "    .dataframe tbody tr th {\n",
       "        vertical-align: top;\n",
       "    }\n",
       "\n",
       "    .dataframe thead th {\n",
       "        text-align: right;\n",
       "    }\n",
       "</style>\n",
       "<table border=\"1\" class=\"dataframe\">\n",
       "  <thead>\n",
       "    <tr style=\"text-align: right;\">\n",
       "      <th></th>\n",
       "      <th>CustomerID</th>\n",
       "      <th>TransactionID</th>\n",
       "      <th>Transaction Date</th>\n",
       "      <th>Product Name</th>\n",
       "      <th>Product Category</th>\n",
       "      <th>Quantity</th>\n",
       "      <th>Price Per Unit</th>\n",
       "      <th>Payment Method</th>\n",
       "      <th>Customer Age</th>\n",
       "      <th>Total Amount</th>\n",
       "    </tr>\n",
       "  </thead>\n",
       "  <tbody>\n",
       "    <tr>\n",
       "      <th>0</th>\n",
       "      <td>CUST041</td>\n",
       "      <td>TXN0001</td>\n",
       "      <td>14/12/2023</td>\n",
       "      <td>Tablet</td>\n",
       "      <td>Electronics</td>\n",
       "      <td>9</td>\n",
       "      <td>229.78</td>\n",
       "      <td>Debit Card</td>\n",
       "      <td>34</td>\n",
       "      <td>2068.02</td>\n",
       "    </tr>\n",
       "    <tr>\n",
       "      <th>1</th>\n",
       "      <td>CUST008</td>\n",
       "      <td>TXN0002</td>\n",
       "      <td>02/12/2023</td>\n",
       "      <td>Tablet</td>\n",
       "      <td>Electronics</td>\n",
       "      <td>4</td>\n",
       "      <td>443.23</td>\n",
       "      <td>Debit Card</td>\n",
       "      <td>39</td>\n",
       "      <td>1772.92</td>\n",
       "    </tr>\n",
       "    <tr>\n",
       "      <th>2</th>\n",
       "      <td>CUST002</td>\n",
       "      <td>TXN0003</td>\n",
       "      <td>01/12/2023</td>\n",
       "      <td>Smartphone</td>\n",
       "      <td>Electronics</td>\n",
       "      <td>4</td>\n",
       "      <td>221.94</td>\n",
       "      <td>Cash</td>\n",
       "      <td>34</td>\n",
       "      <td>887.76</td>\n",
       "    </tr>\n",
       "    <tr>\n",
       "      <th>3</th>\n",
       "      <td>CUST048</td>\n",
       "      <td>TXN0004</td>\n",
       "      <td>07/08/2023</td>\n",
       "      <td>Monitor</td>\n",
       "      <td>Electronics</td>\n",
       "      <td>9</td>\n",
       "      <td>226.87</td>\n",
       "      <td>Debit Card</td>\n",
       "      <td>47</td>\n",
       "      <td>2041.83</td>\n",
       "    </tr>\n",
       "    <tr>\n",
       "      <th>4</th>\n",
       "      <td>CUST018</td>\n",
       "      <td>TXN0005</td>\n",
       "      <td>27/06/2023</td>\n",
       "      <td>Laptop</td>\n",
       "      <td>Electronics</td>\n",
       "      <td>1</td>\n",
       "      <td>169.77</td>\n",
       "      <td>Debit Card</td>\n",
       "      <td>71</td>\n",
       "      <td>169.77</td>\n",
       "    </tr>\n",
       "  </tbody>\n",
       "</table>\n",
       "</div>"
      ],
      "text/plain": [
       "  CustomerID TransactionID Transaction Date Product Name Product Category  \\\n",
       "0    CUST041       TXN0001       14/12/2023       Tablet      Electronics   \n",
       "1    CUST008       TXN0002       02/12/2023       Tablet      Electronics   \n",
       "2    CUST002       TXN0003       01/12/2023   Smartphone      Electronics   \n",
       "3    CUST048       TXN0004       07/08/2023      Monitor      Electronics   \n",
       "4    CUST018       TXN0005       27/06/2023       Laptop      Electronics   \n",
       "\n",
       "   Quantity  Price Per Unit Payment Method  Customer Age  Total Amount  \n",
       "0         9          229.78     Debit Card            34       2068.02  \n",
       "1         4          443.23     Debit Card            39       1772.92  \n",
       "2         4          221.94           Cash            34        887.76  \n",
       "3         9          226.87     Debit Card            47       2041.83  \n",
       "4         1          169.77     Debit Card            71        169.77  "
      ]
     },
     "execution_count": 76,
     "metadata": {},
     "output_type": "execute_result"
    }
   ],
   "source": [
    "# Importing the Pandas library\n",
    "import pandas as pd\n",
    "\n",
    "# Loading the dataset\n",
    "df = pd.read_csv('cleaned_data_2.csv')\n",
    "\n",
    "# Displaying the first few rows of the dataset\n",
    "df.head()"
   ]
  },
  {
   "cell_type": "markdown",
   "id": "b1c8de3d",
   "metadata": {},
   "source": [
    "\n",
    "## 1. Handling Duplicates\n",
    "\n",
    "Duplicate rows can occur when data is entered multiple times or combined from multiple sources. Removing these duplicates is crucial to maintain accurate data.\n",
    "\n",
    "-  **Identify Duplicate Rows**  \n",
    "   Use `.duplicated()` to find duplicate rows in the dataset.\n"
   ]
  },
  {
   "cell_type": "code",
   "execution_count": 77,
   "id": "f7a50fa1",
   "metadata": {},
   "outputs": [
    {
     "name": "stdout",
     "output_type": "stream",
     "text": [
      "Duplicate Rows:\n",
      "    CustomerID TransactionID Transaction Date Product Name Product Category  \\\n",
      "200    CUST041       TXN0001       14/12/2023       Tablet      Electronics   \n",
      "\n",
      "     Quantity  Price Per Unit Payment Method  Customer Age  Total Amount  \n",
      "200         9          229.78     Debit Card            34       2068.02  \n"
     ]
    }
   ],
   "source": [
    "# Identify duplicate rows\n",
    "duplicates = df[df.duplicated()]\n",
    "print(\"Duplicate Rows:\")\n",
    "print(duplicates)"
   ]
  },
  {
   "cell_type": "markdown",
   "id": "3860d118",
   "metadata": {},
   "source": [
    "- We can see that there is a presence of duplicate rows. Let's count the total number of rows so that, after removing the duplicate, we can confirm it was successfully removed.\n"
   ]
  },
  {
   "cell_type": "code",
   "execution_count": 78,
   "id": "3dd0c057",
   "metadata": {},
   "outputs": [
    {
     "name": "stdout",
     "output_type": "stream",
     "text": [
      "Total number of rows: 201\n"
     ]
    }
   ],
   "source": [
    "# Count the total number of rows\n",
    "row_count = df.shape[0] # df.shape[0] returns the number of rows in the DataFrame.\n",
    "print(\"Total number of rows:\", row_count)"
   ]
  },
  {
   "cell_type": "markdown",
   "id": "50a917b8",
   "metadata": {},
   "source": [
    "### Remove Duplicate Rows\n",
    "Use `.drop_duplicates()` to remove duplicates from the dataset."
   ]
  },
  {
   "cell_type": "code",
   "execution_count": 79,
   "id": "41b64556",
   "metadata": {},
   "outputs": [
    {
     "name": "stdout",
     "output_type": "stream",
     "text": [
      "Number of rows after removing duplicates: 200\n"
     ]
    }
   ],
   "source": [
    "# Remove duplicate rows\n",
    "df = df.drop_duplicates()\n",
    "\n",
    "# Verify removal\n",
    "print(\"Number of rows after removing duplicates:\", df.shape[0])"
   ]
  },
  {
   "cell_type": "markdown",
   "id": "ba7a79ee",
   "metadata": {},
   "source": [
    "## Additional Tip\n",
    "\n",
    "### Remove Duplicates Based on Specific Columns\n",
    "\n",
    "Sometimes, duplicates in certain columns need to be handled specifically (e.g., `Transaction ID`). To drop duplicates based on specific columns, pass a list of column names to `.drop_duplicates()`.\n",
    "\n",
    "```python\n",
    "# Remove duplicates based on 'Transaction ID' only\n",
    "df = df.drop_duplicates(subset=['Transaction ID'])\n",
    "\n",
    "# Remove duplicates based on multiple columns, such as 'Transaction ID' and 'Customer ID'\n",
    "df = df.drop_duplicates(subset=['Transaction ID', 'Customer ID'])\n"
   ]
  },
  {
   "cell_type": "markdown",
   "id": "72e66136",
   "metadata": {},
   "source": [
    "# 2. Handling Outliers \n",
    "\n",
    "In this topic, we’ll focus on identifying and handling outliers in the `Total Amount` column using two common techniques:\n",
    "1. **Box Plot Technique**\n",
    "2. **Standard Deviation Technique**\n",
    "\n",
    "Outliers can significantly affect data analysis and model performance, so it's important to handle them carefully."
   ]
  },
  {
   "cell_type": "markdown",
   "id": "84f8fa2a",
   "metadata": {},
   "source": [
    "## a) Using a Box Plot to Identify Outliers\n",
    "\n",
    "The box plot provides a visual overview, allowing us to quickly spot potential outliers. This is useful for initial data exploration and understanding whether any extreme values are present in a particular column. Now, we’ll create a box plot for the `Total Amount` column to quickly spot any outliers in the data."
   ]
  },
  {
   "cell_type": "code",
   "execution_count": 80,
   "id": "af273172",
   "metadata": {},
   "outputs": [],
   "source": [
    "#Before we begin, ensure that the required libraries are imported.\n",
    "import pandas as pd\n",
    "import matplotlib.pyplot as plt"
   ]
  },
  {
   "cell_type": "code",
   "execution_count": 81,
   "id": "dcd9bb99",
   "metadata": {
    "scrolled": true
   },
   "outputs": [
    {
     "data": {
      "image/png": "[encoded data removed]",
      "text/plain": [
       "<Figure size 576x432 with 1 Axes>"
      ]
     },
     "metadata": {
      "needs_background": "light"
     },
     "output_type": "display_data"
    }
   ],
   "source": [
    "# Create a box plot for 'Total Amount' to visualise outliers\n",
    "plt.figure(figsize=(8, 6)) # Sets the size of the plot.\n",
    "df['Total Amount'].plot(kind='box') # Creates a box plot for the `Total Amount` column.\n",
    "plt.title('Box Plot for Total Amount') # Adding title\n",
    "plt.ylabel('Total Amount') # Adds labels for clarity.\n",
    "plt.show()"
   ]
  },
  {
   "cell_type": "markdown",
   "id": "99d93cc8",
   "metadata": {},
   "source": [
    "\n",
    "### Interpreting the Box Plot:\n",
    "- The box represents the interquartile range (IQR), where the middle 50% of the data lies.\n",
    "- The line inside the box shows the median.\n",
    "- Points outside the \"whiskers\" (horizontal lines extending from the box) are potential outliers.\n",
    "\n",
    "In our dataset, we can see that there are 3 potential outliers based on the box plot. The box plot is a quick visualisation tool that helps us identify possible outliers in a dataset. However, in cases where we have a defined threshold, it’s often more precise to use the **Standard Deviation (SD) method**."
   ]
  },
  {
   "cell_type": "markdown",
   "id": "b103ce9f",
   "metadata": {},
   "source": [
    "\n",
    "## b) Identifying Outliers Using the Standard Deviation Technique\n",
    "\n",
    "While box plots are great for visualisation, the **SD method** can be more effective for adjusting or removing outliers, especially when working with threshold values. By using the SD technique, we can precisely define which data points fall outside of the acceptable range based on statistical calculations.\n",
    "\n",
    "### Steps:\n",
    "\n",
    "1. **Calculate Mean and Standard Deviation**"
   ]
  },
  {
   "cell_type": "code",
   "execution_count": 82,
   "id": "38ae45e0",
   "metadata": {},
   "outputs": [
    {
     "name": "stdout",
     "output_type": "stream",
     "text": [
      "The mean is:  1229.81595\n",
      "The standard deviation is:  1147.6596151574797\n"
     ]
    }
   ],
   "source": [
    "# Calculate the mean and standard deviation for the 'Total Amount' column\n",
    "mean = df['Total Amount'].mean()\n",
    "std_dev = df['Total Amount'].std()\n",
    "print(\"The mean is: \", mean)\n",
    "print(\"The standard deviation is: \", std_dev)"
   ]
  },
  {
   "cell_type": "markdown",
   "id": "53222160",
   "metadata": {},
   "source": [
    "### 2. Define Outlier Thresholds\n",
    "\n",
    "Values below `mean - 3 * std_dev` or above `mean + 3 * std_dev` are considered outliers.\n"
   ]
  },
  {
   "cell_type": "code",
   "execution_count": 83,
   "id": "ac85b77d",
   "metadata": {},
   "outputs": [
    {
     "name": "stdout",
     "output_type": "stream",
     "text": [
      "The upper bound is:  4672.79479547244\n",
      "The lower bound is:  -2213.1628954724392\n",
      "The lower bound is negative, so it's not applicable as the amount cannot be negative.\n"
     ]
    }
   ],
   "source": [
    "# Define thresholds\n",
    "upper_bound = mean + 3 * std_dev\n",
    "lower_bound = mean - 3 * std_dev\n",
    "\n",
    "print(\"The upper bound is: \", upper_bound)\n",
    "print(\"The lower bound is: \", lower_bound)\n",
    "print(\"The lower bound is negative, so it's not applicable as the amount cannot be negative.\")\n"
   ]
  },
  {
   "cell_type": "code",
   "execution_count": 84,
   "id": "fc3651b3",
   "metadata": {
    "scrolled": true
   },
   "outputs": [
    {
     "name": "stdout",
     "output_type": "stream",
     "text": [
      "Outliers in 'Total Amount' using Standard Deviation Technique:\n",
      "   CustomerID TransactionID Transaction Date Product Name Product Category  \\\n",
      "45    CUST022       TXN0046       12/04/2023       Tablet      Electronics   \n",
      "\n",
      "    Quantity  Price Per Unit Payment Method  Customer Age  Total Amount  \n",
      "45       100           75.74     Debit Card            77        7574.0  \n"
     ]
    }
   ],
   "source": [
    "# Identify outliers in 'Total Amount' based on the standard deviation technique\n",
    "outliers_std_dev = df[(df['Total Amount'] > upper_bound)]\n",
    "print(\"Outliers in 'Total Amount' using Standard Deviation Technique:\")\n",
    "print(outliers_std_dev)"
   ]
  },
  {
   "cell_type": "markdown",
   "id": "55a79d04",
   "metadata": {},
   "source": [
    "- As we have identified this outlier, we should verify with the business if the total amount of 7,574 is a legitimate purchase with a quantity of 100. If confirmed as valid, we retain this value in the dataset. However, when calculating average transaction amounts, consider excluding this outlier to avoid skewing results or use the median for a more representative measure.\n",
    "- If not confirmed, we would handle it appropriately, such as by removing or correcting the entry.\n"
   ]
  },
  {
   "cell_type": "code",
   "execution_count": 85,
   "id": "4e41e1f7",
   "metadata": {},
   "outputs": [],
   "source": [
    "## Save the Cleaned Dataset "
   ]
  },
  {
   "cell_type": "code",
   "execution_count": 86,
   "id": "4e871a06",
   "metadata": {},
   "outputs": [],
   "source": [
    "# Export the DataFrame to a CSV file\n",
    "df.to_csv('cleaned_data_3.csv', index=False)\n"
   ]
  },
  {
   "cell_type": "markdown",
   "id": "992623a7",
   "metadata": {},
   "source": [
    "### Summary\n",
    "\n",
    "In this topic, we focused on two essential data cleaning tasks:\n",
    "\n",
    "1. **Handling Duplicates**: We identified and removed duplicate rows to ensure accuracy and prevent skewed analysis.\n",
    "2. **Identifying Outliers**: We used the standard deviation technique and box plots to detect outliers in the `Total Amount` column for further validation.\n",
    "\n",
    "By addressing these issues, we’ve ensured a cleaner dataset for analysis. \n"
   ]
  },
  {
   "cell_type": "markdown",
   "id": "eb948939",
   "metadata": {},
   "source": [
    "# What's Next? "
   ]
  },
  {
   "cell_type": "markdown",
   "id": "3e4db902",
   "metadata": {},
   "source": [
    "In the next topic, we will delve into **Data Cleaning with Python (Part 3)**, where we’ll focus on **Feature Engineering and Data Integration**. We will explore combining datasets and creating new features to enhance our analysis.\n"
   ]
  }
 ],
 "metadata": {
  "kernelspec": {
   "display_name": "Python 3 (ipykernel)",
   "language": "python",
   "name": "python3"
  },
  "language_info": {
   "codemirror_mode": {
    "name": "ipython",
    "version": 3
   },
   "file_extension": ".py",
   "mimetype": "text/x-python",
   "name": "python",
   "nbconvert_exporter": "python",
   "pygments_lexer": "ipython3",
   "version": "3.9.12"
  }
 },
 "nbformat": 4,
 "nbformat_minor": 5
}
